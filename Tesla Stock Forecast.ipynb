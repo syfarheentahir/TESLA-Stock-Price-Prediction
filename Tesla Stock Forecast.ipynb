{
 "cells": [
  {
   "cell_type": "markdown",
   "id": "detailed-parallel",
   "metadata": {
    "scrolled": false
   },
   "source": [
    "# TESLA STOCK FORECAST\n",
    "\n",
    "Univariate Analysis on Tesla Stock to Forecast Stock Pricing using LSTM(Long Short-Term Memory) an artificial recurrent Neural Netwrok Architecture"
   ]
  },
  {
   "cell_type": "markdown",
   "id": "defensive-virgin",
   "metadata": {},
   "source": [
    "IMPORTING Required Libraries"
   ]
  },
  {
   "cell_type": "code",
   "execution_count": 1,
   "id": "prerequisite-tourist",
   "metadata": {},
   "outputs": [],
   "source": [
    "import numpy as np\n",
    "import pandas as pd\n",
    "import datetime\n",
    "import matplotlib.pyplot as plt\n",
    "import math"
   ]
  },
  {
   "cell_type": "code",
   "execution_count": 2,
   "id": "literary-african",
   "metadata": {},
   "outputs": [],
   "source": [
    "import pandas_datareader as web\n",
    "import time\n",
    "import os\n"
   ]
  },
  {
   "cell_type": "code",
   "execution_count": 3,
   "id": "decreased-match",
   "metadata": {},
   "outputs": [],
   "source": [
    "from sklearn.preprocessing import MinMaxScaler\n",
    "from keras.models import Sequential\n",
    "from keras.layers import Dense, LSTM\n"
   ]
  },
  {
   "cell_type": "code",
   "execution_count": 4,
   "id": "dense-triple",
   "metadata": {},
   "outputs": [
    {
     "name": "stdout",
     "output_type": "stream",
     "text": [
      "<class 'pandas.core.frame.DataFrame'>\n",
      "DatetimeIndex: 2416 entries, 2010-06-29 to 2020-02-03\n",
      "Data columns (total 6 columns):\n",
      " #   Column     Non-Null Count  Dtype  \n",
      "---  ------     --------------  -----  \n",
      " 0   Open       2416 non-null   float64\n",
      " 1   High       2416 non-null   float64\n",
      " 2   Low        2416 non-null   float64\n",
      " 3   Close      2416 non-null   float64\n",
      " 4   Adj Close  2416 non-null   float64\n",
      " 5   Volume     2416 non-null   int64  \n",
      "dtypes: float64(5), int64(1)\n",
      "memory usage: 132.1 KB\n"
     ]
    }
   ],
   "source": [
    "df = pd.read_csv(r'C:/Users/PC/Desktop/TESLA/TSLA.csv', index_col=\"Date\", parse_dates=True)\n",
    "df.info()"
   ]
  },
  {
   "cell_type": "code",
   "execution_count": 5,
   "id": "confidential-rebel",
   "metadata": {},
   "outputs": [
    {
     "data": {
      "text/html": [
       "<div>\n",
       "<style scoped>\n",
       "    .dataframe tbody tr th:only-of-type {\n",
       "        vertical-align: middle;\n",
       "    }\n",
       "\n",
       "    .dataframe tbody tr th {\n",
       "        vertical-align: top;\n",
       "    }\n",
       "\n",
       "    .dataframe thead th {\n",
       "        text-align: right;\n",
       "    }\n",
       "</style>\n",
       "<table border=\"1\" class=\"dataframe\">\n",
       "  <thead>\n",
       "    <tr style=\"text-align: right;\">\n",
       "      <th></th>\n",
       "      <th>Open</th>\n",
       "      <th>High</th>\n",
       "      <th>Low</th>\n",
       "      <th>Close</th>\n",
       "      <th>Adj Close</th>\n",
       "      <th>Volume</th>\n",
       "    </tr>\n",
       "    <tr>\n",
       "      <th>Date</th>\n",
       "      <th></th>\n",
       "      <th></th>\n",
       "      <th></th>\n",
       "      <th></th>\n",
       "      <th></th>\n",
       "      <th></th>\n",
       "    </tr>\n",
       "  </thead>\n",
       "  <tbody>\n",
       "    <tr>\n",
       "      <th>2010-06-29</th>\n",
       "      <td>19.000000</td>\n",
       "      <td>25.00</td>\n",
       "      <td>17.540001</td>\n",
       "      <td>23.889999</td>\n",
       "      <td>23.889999</td>\n",
       "      <td>18766300</td>\n",
       "    </tr>\n",
       "    <tr>\n",
       "      <th>2010-06-30</th>\n",
       "      <td>25.790001</td>\n",
       "      <td>30.42</td>\n",
       "      <td>23.299999</td>\n",
       "      <td>23.830000</td>\n",
       "      <td>23.830000</td>\n",
       "      <td>17187100</td>\n",
       "    </tr>\n",
       "    <tr>\n",
       "      <th>2010-07-01</th>\n",
       "      <td>25.000000</td>\n",
       "      <td>25.92</td>\n",
       "      <td>20.270000</td>\n",
       "      <td>21.959999</td>\n",
       "      <td>21.959999</td>\n",
       "      <td>8218800</td>\n",
       "    </tr>\n",
       "    <tr>\n",
       "      <th>2010-07-02</th>\n",
       "      <td>23.000000</td>\n",
       "      <td>23.10</td>\n",
       "      <td>18.709999</td>\n",
       "      <td>19.200001</td>\n",
       "      <td>19.200001</td>\n",
       "      <td>5139800</td>\n",
       "    </tr>\n",
       "    <tr>\n",
       "      <th>2010-07-06</th>\n",
       "      <td>20.000000</td>\n",
       "      <td>20.00</td>\n",
       "      <td>15.830000</td>\n",
       "      <td>16.110001</td>\n",
       "      <td>16.110001</td>\n",
       "      <td>6866900</td>\n",
       "    </tr>\n",
       "  </tbody>\n",
       "</table>\n",
       "</div>"
      ],
      "text/plain": [
       "                 Open   High        Low      Close  Adj Close    Volume\n",
       "Date                                                                   \n",
       "2010-06-29  19.000000  25.00  17.540001  23.889999  23.889999  18766300\n",
       "2010-06-30  25.790001  30.42  23.299999  23.830000  23.830000  17187100\n",
       "2010-07-01  25.000000  25.92  20.270000  21.959999  21.959999   8218800\n",
       "2010-07-02  23.000000  23.10  18.709999  19.200001  19.200001   5139800\n",
       "2010-07-06  20.000000  20.00  15.830000  16.110001  16.110001   6866900"
      ]
     },
     "execution_count": 5,
     "metadata": {},
     "output_type": "execute_result"
    }
   ],
   "source": [
    "df.head()"
   ]
  },
  {
   "cell_type": "code",
   "execution_count": 6,
   "id": "southwest-alpha",
   "metadata": {},
   "outputs": [
    {
     "data": {
      "text/html": [
       "<div>\n",
       "<style scoped>\n",
       "    .dataframe tbody tr th:only-of-type {\n",
       "        vertical-align: middle;\n",
       "    }\n",
       "\n",
       "    .dataframe tbody tr th {\n",
       "        vertical-align: top;\n",
       "    }\n",
       "\n",
       "    .dataframe thead th {\n",
       "        text-align: right;\n",
       "    }\n",
       "</style>\n",
       "<table border=\"1\" class=\"dataframe\">\n",
       "  <thead>\n",
       "    <tr style=\"text-align: right;\">\n",
       "      <th></th>\n",
       "      <th>Open</th>\n",
       "      <th>High</th>\n",
       "      <th>Low</th>\n",
       "      <th>Close</th>\n",
       "      <th>Adj Close</th>\n",
       "      <th>Volume</th>\n",
       "    </tr>\n",
       "    <tr>\n",
       "      <th>Date</th>\n",
       "      <th></th>\n",
       "      <th></th>\n",
       "      <th></th>\n",
       "      <th></th>\n",
       "      <th></th>\n",
       "      <th></th>\n",
       "    </tr>\n",
       "  </thead>\n",
       "  <tbody>\n",
       "    <tr>\n",
       "      <th>2020-01-28</th>\n",
       "      <td>568.489990</td>\n",
       "      <td>576.809998</td>\n",
       "      <td>558.080017</td>\n",
       "      <td>566.900024</td>\n",
       "      <td>566.900024</td>\n",
       "      <td>11788500</td>\n",
       "    </tr>\n",
       "    <tr>\n",
       "      <th>2020-01-29</th>\n",
       "      <td>575.690002</td>\n",
       "      <td>589.799988</td>\n",
       "      <td>567.429993</td>\n",
       "      <td>580.989990</td>\n",
       "      <td>580.989990</td>\n",
       "      <td>17801500</td>\n",
       "    </tr>\n",
       "    <tr>\n",
       "      <th>2020-01-30</th>\n",
       "      <td>632.419983</td>\n",
       "      <td>650.880005</td>\n",
       "      <td>618.000000</td>\n",
       "      <td>640.809998</td>\n",
       "      <td>640.809998</td>\n",
       "      <td>29005700</td>\n",
       "    </tr>\n",
       "    <tr>\n",
       "      <th>2020-01-31</th>\n",
       "      <td>640.000000</td>\n",
       "      <td>653.000000</td>\n",
       "      <td>632.520020</td>\n",
       "      <td>650.570007</td>\n",
       "      <td>650.570007</td>\n",
       "      <td>15719300</td>\n",
       "    </tr>\n",
       "    <tr>\n",
       "      <th>2020-02-03</th>\n",
       "      <td>673.690002</td>\n",
       "      <td>786.140015</td>\n",
       "      <td>673.520020</td>\n",
       "      <td>780.000000</td>\n",
       "      <td>780.000000</td>\n",
       "      <td>47065000</td>\n",
       "    </tr>\n",
       "  </tbody>\n",
       "</table>\n",
       "</div>"
      ],
      "text/plain": [
       "                  Open        High         Low       Close   Adj Close  \\\n",
       "Date                                                                     \n",
       "2020-01-28  568.489990  576.809998  558.080017  566.900024  566.900024   \n",
       "2020-01-29  575.690002  589.799988  567.429993  580.989990  580.989990   \n",
       "2020-01-30  632.419983  650.880005  618.000000  640.809998  640.809998   \n",
       "2020-01-31  640.000000  653.000000  632.520020  650.570007  650.570007   \n",
       "2020-02-03  673.690002  786.140015  673.520020  780.000000  780.000000   \n",
       "\n",
       "              Volume  \n",
       "Date                  \n",
       "2020-01-28  11788500  \n",
       "2020-01-29  17801500  \n",
       "2020-01-30  29005700  \n",
       "2020-01-31  15719300  \n",
       "2020-02-03  47065000  "
      ]
     },
     "execution_count": 6,
     "metadata": {},
     "output_type": "execute_result"
    }
   ],
   "source": [
    "df.tail()"
   ]
  },
  {
   "cell_type": "markdown",
   "id": "alleged-cowboy",
   "metadata": {},
   "source": [
    "## Data Cleaning\n",
    "Checking NULL Values in the Data"
   ]
  },
  {
   "cell_type": "code",
   "execution_count": 7,
   "id": "secondary-division",
   "metadata": {
    "scrolled": true
   },
   "outputs": [
    {
     "data": {
      "text/plain": [
       "Open         False\n",
       "High         False\n",
       "Low          False\n",
       "Close        False\n",
       "Adj Close    False\n",
       "Volume       False\n",
       "dtype: bool"
      ]
     },
     "execution_count": 7,
     "metadata": {},
     "output_type": "execute_result"
    }
   ],
   "source": [
    "df.isna().any()"
   ]
  },
  {
   "cell_type": "markdown",
   "id": "soviet-willow",
   "metadata": {},
   "source": [
    "False indicates that we do not have any NULL values in the Data. "
   ]
  },
  {
   "cell_type": "code",
   "execution_count": 8,
   "id": "emerging-affiliation",
   "metadata": {},
   "outputs": [
    {
     "data": {
      "text/plain": [
       "(2416, 6)"
      ]
     },
     "execution_count": 8,
     "metadata": {},
     "output_type": "execute_result"
    }
   ],
   "source": [
    "df.shape"
   ]
  },
  {
   "cell_type": "code",
   "execution_count": 9,
   "id": "magnetic-lafayette",
   "metadata": {},
   "outputs": [
    {
     "data": {
      "text/plain": [
       "2416"
      ]
     },
     "execution_count": 9,
     "metadata": {},
     "output_type": "execute_result"
    }
   ],
   "source": [
    "len(df)"
   ]
  },
  {
   "cell_type": "markdown",
   "id": "increased-while",
   "metadata": {},
   "source": [
    "### Stock Trend Visualization\n"
   ]
  },
  {
   "cell_type": "code",
   "execution_count": 10,
   "id": "finished-brunswick",
   "metadata": {},
   "outputs": [
    {
     "data": {
      "image/png": "[encoded data removed]",
      "text/plain": [
       "<Figure size 1296x432 with 1 Axes>"
      ]
     },
     "metadata": {
      "needs_background": "light"
     },
     "output_type": "display_data"
    }
   ],
   "source": [
    "plt.figure(figsize=(18,6))\n",
    "plt.title('TESLA Stock Trend', fontsize=25)\n",
    "plt.plot(df['Close'])\n",
    "plt.xlabel('Time Frame', fontsize=20)\n",
    "plt.ylabel('Stock Price USD', fontsize=20)\n",
    "plt.show()"
   ]
  },
  {
   "cell_type": "markdown",
   "id": "ahead-compound",
   "metadata": {},
   "source": [
    "Based on the visualisation computed above we have an understanding that the TESLA stocks were stagnantly from 2010 to 2013 and started to increase between 2013-2014. The stock price then increased exponentialy between 2019 and 2020."
   ]
  },
  {
   "cell_type": "markdown",
   "id": "prepared-equipment",
   "metadata": {},
   "source": [
    "# Data Split into Training and Test sets"
   ]
  },
  {
   "cell_type": "markdown",
   "id": "artificial-formation",
   "metadata": {},
   "source": [
    "Only considering the field 'Close' and 'Date' from the Dataset and use 80% of the data for training and 20% of the data for testing"
   ]
  },
  {
   "cell_type": "code",
   "execution_count": 11,
   "id": "younger-conjunction",
   "metadata": {},
   "outputs": [],
   "source": [
    "Fdf = df.filter(['Close'])"
   ]
  },
  {
   "cell_type": "code",
   "execution_count": 12,
   "id": "reasonable-house",
   "metadata": {},
   "outputs": [
    {
     "data": {
      "text/html": [
       "<div>\n",
       "<style scoped>\n",
       "    .dataframe tbody tr th:only-of-type {\n",
       "        vertical-align: middle;\n",
       "    }\n",
       "\n",
       "    .dataframe tbody tr th {\n",
       "        vertical-align: top;\n",
       "    }\n",
       "\n",
       "    .dataframe thead th {\n",
       "        text-align: right;\n",
       "    }\n",
       "</style>\n",
       "<table border=\"1\" class=\"dataframe\">\n",
       "  <thead>\n",
       "    <tr style=\"text-align: right;\">\n",
       "      <th></th>\n",
       "      <th>Close</th>\n",
       "    </tr>\n",
       "    <tr>\n",
       "      <th>Date</th>\n",
       "      <th></th>\n",
       "    </tr>\n",
       "  </thead>\n",
       "  <tbody>\n",
       "    <tr>\n",
       "      <th>2010-06-29</th>\n",
       "      <td>23.889999</td>\n",
       "    </tr>\n",
       "    <tr>\n",
       "      <th>2010-06-30</th>\n",
       "      <td>23.830000</td>\n",
       "    </tr>\n",
       "    <tr>\n",
       "      <th>2010-07-01</th>\n",
       "      <td>21.959999</td>\n",
       "    </tr>\n",
       "    <tr>\n",
       "      <th>2010-07-02</th>\n",
       "      <td>19.200001</td>\n",
       "    </tr>\n",
       "    <tr>\n",
       "      <th>2010-07-06</th>\n",
       "      <td>16.110001</td>\n",
       "    </tr>\n",
       "  </tbody>\n",
       "</table>\n",
       "</div>"
      ],
      "text/plain": [
       "                Close\n",
       "Date                 \n",
       "2010-06-29  23.889999\n",
       "2010-06-30  23.830000\n",
       "2010-07-01  21.959999\n",
       "2010-07-02  19.200001\n",
       "2010-07-06  16.110001"
      ]
     },
     "execution_count": 12,
     "metadata": {},
     "output_type": "execute_result"
    }
   ],
   "source": [
    "Fdf.head()"
   ]
  },
  {
   "cell_type": "code",
   "execution_count": 13,
   "id": "electoral-layer",
   "metadata": {},
   "outputs": [],
   "source": [
    "#convert data into numpy array\n",
    "Dataset = Fdf.values"
   ]
  },
  {
   "cell_type": "code",
   "execution_count": 14,
   "id": "after-butter",
   "metadata": {
    "scrolled": true
   },
   "outputs": [
    {
     "data": {
      "text/plain": [
       "2416"
      ]
     },
     "execution_count": 14,
     "metadata": {},
     "output_type": "execute_result"
    }
   ],
   "source": [
    "len(Dataset)"
   ]
  },
  {
   "cell_type": "code",
   "execution_count": 15,
   "id": "approved-biology",
   "metadata": {},
   "outputs": [],
   "source": [
    "training_length = math.ceil(len(Dataset)* .8)"
   ]
  },
  {
   "cell_type": "code",
   "execution_count": 16,
   "id": "transparent-petite",
   "metadata": {},
   "outputs": [
    {
     "data": {
      "text/plain": [
       "(2416, 1)"
      ]
     },
     "execution_count": 16,
     "metadata": {},
     "output_type": "execute_result"
    }
   ],
   "source": [
    "Dataset.shape"
   ]
  },
  {
   "cell_type": "code",
   "execution_count": 17,
   "id": "organizational-lexington",
   "metadata": {},
   "outputs": [
    {
     "data": {
      "text/plain": [
       "1933"
      ]
     },
     "execution_count": 17,
     "metadata": {},
     "output_type": "execute_result"
    }
   ],
   "source": [
    "training_length"
   ]
  },
  {
   "cell_type": "markdown",
   "id": "attractive-tracker",
   "metadata": {},
   "source": [
    "Scaling Data"
   ]
  },
  {
   "cell_type": "code",
   "execution_count": 18,
   "id": "alert-google",
   "metadata": {},
   "outputs": [],
   "source": [
    "scaler = MinMaxScaler(feature_range=(0,1))"
   ]
  },
  {
   "cell_type": "code",
   "execution_count": 19,
   "id": "periodic-public",
   "metadata": {},
   "outputs": [],
   "source": [
    "data_scaler = scaler.fit_transform(Dataset)"
   ]
  },
  {
   "cell_type": "code",
   "execution_count": 20,
   "id": "specialized-friendship",
   "metadata": {},
   "outputs": [
    {
     "data": {
      "text/plain": [
       "array([[0.01058623],\n",
       "       [0.01050772],\n",
       "       [0.00806072],\n",
       "       ...,\n",
       "       [0.81786181],\n",
       "       [0.83063335],\n",
       "       [1.        ]])"
      ]
     },
     "execution_count": 20,
     "metadata": {},
     "output_type": "execute_result"
    }
   ],
   "source": [
    "data_scaler"
   ]
  },
  {
   "cell_type": "markdown",
   "id": "essential-stewart",
   "metadata": {},
   "source": [
    "Scaled Training dataset"
   ]
  },
  {
   "cell_type": "code",
   "execution_count": 21,
   "id": "weird-massachusetts",
   "metadata": {},
   "outputs": [
    {
     "name": "stdout",
     "output_type": "stream",
     "text": [
      "[array([0.01058623, 0.01050772, 0.00806072, 0.0044491 , 0.00040565,\n",
      "       0.        , 0.0021722 , 0.00209369, 0.0016357 , 0.00306202,\n",
      "       0.00528657, 0.005352  , 0.00633342, 0.00799529, 0.00588851,\n",
      "       0.00578382, 0.0068045 , 0.00718398, 0.00673907, 0.00621565])]\n",
      "[0.006438103899502751]\n",
      "\n",
      "[array([0.01058623, 0.01050772, 0.00806072, 0.0044491 , 0.00040565,\n",
      "       0.        , 0.0021722 , 0.00209369, 0.0016357 , 0.00306202,\n",
      "       0.00528657, 0.005352  , 0.00633342, 0.00799529, 0.00588851,\n",
      "       0.00578382, 0.0068045 , 0.00718398, 0.00673907, 0.00621565]), array([0.01050772, 0.00806072, 0.0044491 , 0.00040565, 0.        ,\n",
      "       0.0021722 , 0.00209369, 0.0016357 , 0.00306202, 0.00528657,\n",
      "       0.005352  , 0.00633342, 0.00799529, 0.00588851, 0.00578382,\n",
      "       0.0068045 , 0.00718398, 0.00673907, 0.00621565, 0.0064381 ])]\n",
      "[0.006438103899502751, 0.005953938759487045]\n",
      "\n"
     ]
    }
   ],
   "source": [
    "train_data = data_scaler[0:training_length, :]\n",
    "x_train =[]\n",
    "y_train =[]\n",
    "\n",
    "for i in range(20, len(train_data)):\n",
    "    x_train.append(train_data[i-20:i,0])\n",
    "    y_train.append(train_data[i,0])\n",
    "    if i<=21:\n",
    "        print(x_train)\n",
    "        print(y_train)\n",
    "        print()"
   ]
  },
  {
   "cell_type": "code",
   "execution_count": 22,
   "id": "identical-navigation",
   "metadata": {},
   "outputs": [
    {
     "data": {
      "text/plain": [
       "(1913, 20)"
      ]
     },
     "execution_count": 22,
     "metadata": {},
     "output_type": "execute_result"
    }
   ],
   "source": [
    "#Convert the x_train and y_train to numpy arrays\n",
    "x_train, y_train = np.array(x_train), np.array(y_train) \n",
    "\n",
    "\n",
    "x_train.shape"
   ]
  },
  {
   "cell_type": "code",
   "execution_count": 23,
   "id": "figured-garage",
   "metadata": {
    "scrolled": true
   },
   "outputs": [
    {
     "data": {
      "text/plain": [
       "(1913, 20, 1)"
      ]
     },
     "execution_count": 23,
     "metadata": {},
     "output_type": "execute_result"
    }
   ],
   "source": [
    "x_train = np.reshape(x_train, (x_train.shape[0], x_train.shape[1], 1))\n",
    "x_train.shape\n"
   ]
  },
  {
   "cell_type": "code",
   "execution_count": 24,
   "id": "worthy-tuition",
   "metadata": {
    "scrolled": true
   },
   "outputs": [
    {
     "name": "stdout",
     "output_type": "stream",
     "text": [
      "False\n"
     ]
    }
   ],
   "source": [
    "#Create the testing data set\n",
    "#Create a new array containin scaled values from index 1873 to 2416\n",
    "test_data = data_scaler[training_length - 20:, :]\n",
    "\n",
    "#Create x_test and y_test\n",
    "\n",
    "x_test =[]\n",
    "y_test =Dataset[training_length:,:]\n",
    "\n",
    "for i in range(20, len(test_data)):\n",
    "    x_test.append(test_data[i-20:i,0])\n",
    "\n",
    "\n",
    "#convert the data to a numpy array\n",
    "x_test = np.array(x_test)\n",
    "\n",
    "#reshape the data\n",
    "x_test = np.reshape(x_test, (x_test.shape[0], x_test.shape[1], 1))\n",
    "T_shape=Dataset.shape\n",
    "train_shape = train_data.shape\n",
    "test_shape = test_data.shape\n",
    "def isLeak(T_shape, train_shape, test_shape):\n",
    "    return(T_shape[0]==(train_shape[0] +test_shape[0]))\n",
    "\n",
    "print(isLeak(Dataset.shape,train_shape, test_shape))"
   ]
  },
  {
   "cell_type": "markdown",
   "id": "exceptional-romantic",
   "metadata": {},
   "source": [
    "Checking Data Leaks betweek Training and Testing Dataset"
   ]
  },
  {
   "cell_type": "code",
   "execution_count": 25,
   "id": "upper-helen",
   "metadata": {},
   "outputs": [
    {
     "name": "stdout",
     "output_type": "stream",
     "text": [
      "False\n"
     ]
    }
   ],
   "source": [
    "T_shape=Dataset.shape\n",
    "train_shape = train_data.shape\n",
    "test_shape = test_data.shape\n",
    "def isLeak(T_shape, train_shape, test_shape):\n",
    "    return(T_shape[0]==(train_shape[0] +test_shape[0]))\n",
    "\n",
    "print(isLeak(Dataset.shape,train_shape, test_shape))"
   ]
  },
  {
   "cell_type": "markdown",
   "id": "exact-vacation",
   "metadata": {},
   "source": [
    "## LSTM Model\n",
    "### Long Short-Term Memory "
   ]
  },
  {
   "cell_type": "code",
   "execution_count": 26,
   "id": "virtual-target",
   "metadata": {},
   "outputs": [],
   "source": [
    "model= Sequential()\n",
    "model.add(LSTM(50, return_sequences=True, input_shape=(x_train.shape[1], 1)))\n",
    "model.add(LSTM(50, return_sequences=False))\n",
    "model.add(Dense(25))\n",
    "model.add(Dense(1))\n",
    "  "
   ]
  },
  {
   "cell_type": "code",
   "execution_count": 27,
   "id": "positive-pride",
   "metadata": {},
   "outputs": [],
   "source": [
    "#Compile the model\n",
    "\n",
    "model.compile(optimizer='adam', loss='mean_squared_error')"
   ]
  },
  {
   "cell_type": "code",
   "execution_count": 28,
   "id": "inside-christmas",
   "metadata": {},
   "outputs": [
    {
     "name": "stdout",
     "output_type": "stream",
     "text": [
      "1913/1913 [==============================] - 27s 12ms/step - loss: 0.0014\n"
     ]
    },
    {
     "data": {
      "text/plain": [
       "<tensorflow.python.keras.callbacks.History at 0x23f4bdc8748>"
      ]
     },
     "execution_count": 28,
     "metadata": {},
     "output_type": "execute_result"
    }
   ],
   "source": [
    "#Train the model\n",
    "model.fit(x_train, y_train, batch_size=1, epochs=1)"
   ]
  },
  {
   "cell_type": "code",
   "execution_count": 29,
   "id": "lasting-roads",
   "metadata": {},
   "outputs": [],
   "source": [
    "#Create the testing data set\n",
    "#Create a new array containin scaled values from index 1873 to 2416\n",
    "test_data = data_scaler[training_length - 20:, :]\n",
    "\n",
    "#Create x_test and y_test\n",
    "\n",
    "x_test =[]\n",
    "y_test =Dataset[training_length:,:]\n",
    "\n",
    "for i in range(20, len(test_data)):\n",
    "    x_test.append(test_data[i-20:i,0])\n",
    "\n",
    "\n",
    "#convert the data to a numpy array\n",
    "x_test = np.array(x_test)\n",
    "\n",
    "#reshape the data\n",
    "x_test = np.reshape(x_test, (x_test.shape[0], x_test.shape[1], 1))"
   ]
  },
  {
   "cell_type": "code",
   "execution_count": 30,
   "id": "exempt-manual",
   "metadata": {},
   "outputs": [],
   "source": [
    "\n",
    "#Get the models predicted price values\n",
    "predictions =model.predict(x_test)\n",
    "predictions = scaler.inverse_transform(predictions)"
   ]
  },
  {
   "cell_type": "markdown",
   "id": "funky-geography",
   "metadata": {},
   "source": [
    "## RMSE Score\n",
    "RMSE (Root Mean Squared Error) is the standard deviation or errors which helps determining the accuracy of the model. Our model is giving us 0.77 RMSE score indicating our model is very efficient."
   ]
  },
  {
   "cell_type": "code",
   "execution_count": 45,
   "id": "weighted-prayer",
   "metadata": {},
   "outputs": [
    {
     "data": {
      "text/plain": [
       "0.3250844602682601"
      ]
     },
     "execution_count": 45,
     "metadata": {},
     "output_type": "execute_result"
    }
   ],
   "source": [
    "from sklearn.metrics import mean_squared_error\n",
    "rmse =np.sqrt(np.mean(predictions- y_test)**2)\n",
    "rmse"
   ]
  },
  {
   "cell_type": "code",
   "execution_count": 44,
   "id": "mental-humanity",
   "metadata": {},
   "outputs": [
    {
     "data": {
      "text/plain": [
       "0.33"
      ]
     },
     "execution_count": 44,
     "metadata": {},
     "output_type": "execute_result"
    }
   ],
   "source": [
    "np.round(rmse,2)"
   ]
  },
  {
   "cell_type": "code",
   "execution_count": 46,
   "id": "welcome-victim",
   "metadata": {
    "scrolled": false
   },
   "outputs": [
    {
     "name": "stderr",
     "output_type": "stream",
     "text": [
      "c:\\users\\pc\\appdata\\local\\programs\\python\\python37\\lib\\site-packages\\ipykernel_launcher.py:3: SettingWithCopyWarning: \n",
      "A value is trying to be set on a copy of a slice from a DataFrame.\n",
      "Try using .loc[row_indexer,col_indexer] = value instead\n",
      "\n",
      "See the caveats in the documentation: https://pandas.pydata.org/pandas-docs/stable/user_guide/indexing.html#returning-a-view-versus-a-copy\n",
      "  This is separate from the ipykernel package so we can avoid doing imports until\n"
     ]
    },
    {
     "data": {
      "image/png": "[encoded data removed]",
      "text/plain": [
       "<Figure size 1152x576 with 1 Axes>"
      ]
     },
     "metadata": {
      "needs_background": "light"
     },
     "output_type": "display_data"
    }
   ],
   "source": [
    "\n",
    "train = Fdf[:training_length]\n",
    "valid = Fdf[training_length:]\n",
    "valid['predictions'] = predictions\n",
    "\n",
    "#Visualize the data\n",
    "\n",
    "plt.figure(figsize=(16,8))\n",
    "plt.title('Model')\n",
    "plt.xlabel('Date', fontsize=18)\n",
    "plt.ylabel('Close Price USD ($)', fontsize=18)\n",
    "plt.plot(train['Close'])\n",
    "plt.plot(valid[['Close','predictions']])\n",
    "plt.legend(['Train', 'Actual', 'Forecast'], loc='lower left')\n",
    "plt.show()"
   ]
  },
  {
   "cell_type": "code",
   "execution_count": 34,
   "id": "geographic-hotel",
   "metadata": {},
   "outputs": [
    {
     "data": {
      "text/html": [
       "<div>\n",
       "<style scoped>\n",
       "    .dataframe tbody tr th:only-of-type {\n",
       "        vertical-align: middle;\n",
       "    }\n",
       "\n",
       "    .dataframe tbody tr th {\n",
       "        vertical-align: top;\n",
       "    }\n",
       "\n",
       "    .dataframe thead th {\n",
       "        text-align: right;\n",
       "    }\n",
       "</style>\n",
       "<table border=\"1\" class=\"dataframe\">\n",
       "  <thead>\n",
       "    <tr style=\"text-align: right;\">\n",
       "      <th></th>\n",
       "      <th>Close</th>\n",
       "      <th>predictions</th>\n",
       "    </tr>\n",
       "    <tr>\n",
       "      <th>Date</th>\n",
       "      <th></th>\n",
       "      <th></th>\n",
       "    </tr>\n",
       "  </thead>\n",
       "  <tbody>\n",
       "    <tr>\n",
       "      <th>2018-03-05</th>\n",
       "      <td>333.350006</td>\n",
       "      <td>344.414825</td>\n",
       "    </tr>\n",
       "    <tr>\n",
       "      <th>2018-03-06</th>\n",
       "      <td>328.200012</td>\n",
       "      <td>342.768677</td>\n",
       "    </tr>\n",
       "    <tr>\n",
       "      <th>2018-03-07</th>\n",
       "      <td>332.299988</td>\n",
       "      <td>340.649567</td>\n",
       "    </tr>\n",
       "    <tr>\n",
       "      <th>2018-03-08</th>\n",
       "      <td>329.100006</td>\n",
       "      <td>339.103302</td>\n",
       "    </tr>\n",
       "    <tr>\n",
       "      <th>2018-03-09</th>\n",
       "      <td>327.170013</td>\n",
       "      <td>337.581909</td>\n",
       "    </tr>\n",
       "    <tr>\n",
       "      <th>...</th>\n",
       "      <td>...</td>\n",
       "      <td>...</td>\n",
       "    </tr>\n",
       "    <tr>\n",
       "      <th>2020-01-28</th>\n",
       "      <td>566.900024</td>\n",
       "      <td>533.293701</td>\n",
       "    </tr>\n",
       "    <tr>\n",
       "      <th>2020-01-29</th>\n",
       "      <td>580.989990</td>\n",
       "      <td>537.508728</td>\n",
       "    </tr>\n",
       "    <tr>\n",
       "      <th>2020-01-30</th>\n",
       "      <td>640.809998</td>\n",
       "      <td>542.616577</td>\n",
       "    </tr>\n",
       "    <tr>\n",
       "      <th>2020-01-31</th>\n",
       "      <td>650.570007</td>\n",
       "      <td>554.652771</td>\n",
       "    </tr>\n",
       "    <tr>\n",
       "      <th>2020-02-03</th>\n",
       "      <td>780.000000</td>\n",
       "      <td>568.516235</td>\n",
       "    </tr>\n",
       "  </tbody>\n",
       "</table>\n",
       "<p>483 rows × 2 columns</p>\n",
       "</div>"
      ],
      "text/plain": [
       "                 Close  predictions\n",
       "Date                               \n",
       "2018-03-05  333.350006   344.414825\n",
       "2018-03-06  328.200012   342.768677\n",
       "2018-03-07  332.299988   340.649567\n",
       "2018-03-08  329.100006   339.103302\n",
       "2018-03-09  327.170013   337.581909\n",
       "...                ...          ...\n",
       "2020-01-28  566.900024   533.293701\n",
       "2020-01-29  580.989990   537.508728\n",
       "2020-01-30  640.809998   542.616577\n",
       "2020-01-31  650.570007   554.652771\n",
       "2020-02-03  780.000000   568.516235\n",
       "\n",
       "[483 rows x 2 columns]"
      ]
     },
     "execution_count": 34,
     "metadata": {},
     "output_type": "execute_result"
    }
   ],
   "source": [
    "#Show Valid and Predicted prices\n",
    "valid"
   ]
  },
  {
   "cell_type": "code",
   "execution_count": 51,
   "id": "romance-queensland",
   "metadata": {},
   "outputs": [
    {
     "name": "stdout",
     "output_type": "stream",
     "text": [
      "Price predicted for 4th Feb 2020\n",
      "[[597.11]]\n"
     ]
    }
   ],
   "source": [
    "dfnew = pd.read_csv(r'C:/Users/PC/Desktop/TESLA/TSLA.csv', index_col=\"Date\", parse_dates=True)\n",
    "new_df = dfnew.filter(['Close'])\n",
    "last_20 = new_df[-20:].values\n",
    "scaled_last_20 =scaler.transform(last_20)\n",
    "X_test =[]\n",
    "X_test.append(scaled_last_20)\n",
    "X_test = np.array(X_test)\n",
    "X_test = np.reshape(X_test, (X_test.shape[0], X_test.shape[1],1))\n",
    "pred_price = model.predict(X_test)\n",
    "pred_price = scaler.inverse_transform(pred_price)\n",
    "print(\"Price predicted for 4th Feb 2020\")\n",
    "print(np.round(pred_price,2))\n"
   ]
  },
  {
   "cell_type": "markdown",
   "id": "lovely-agriculture",
   "metadata": {},
   "source": [
    "Conclusion:\n",
    "The price predicted for the next closing date is 595.11 USD, the predicted price is very close to the actual stock value on 4th Feb, 2020. This value is based univariate analysis and for TESLA stockes other factors like trading volume and Elon Musk's social media activity."
   ]
  },
  {
   "cell_type": "code",
   "execution_count": null,
   "id": "seeing-parcel",
   "metadata": {},
   "outputs": [],
   "source": []
  }
 ],
 "metadata": {
  "kernelspec": {
   "display_name": "Python 3",
   "language": "python",
   "name": "python3"
  },
  "language_info": {
   "codemirror_mode": {
    "name": "ipython",
    "version": 3
   },
   "file_extension": ".py",
   "mimetype": "text/x-python",
   "name": "python",
   "nbconvert_exporter": "python",
   "pygments_lexer": "ipython3",
   "version": "3.7.9"
  }
 },
 "nbformat": 4,
 "nbformat_minor": 5
}
